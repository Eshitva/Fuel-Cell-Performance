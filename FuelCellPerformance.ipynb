{
  "nbformat": 4,
  "nbformat_minor": 0,
  "metadata": {
    "colab": {
      "provenance": [],
      "gpuType": "T4",
      "authorship_tag": "ABX9TyO5/KqfMqoltqGPQlVp+czc",
      "include_colab_link": true
    },
    "kernelspec": {
      "name": "python3",
      "display_name": "Python 3"
    },
    "language_info": {
      "name": "python"
    },
    "accelerator": "GPU",
    "widgets": {
      "application/vnd.jupyter.widget-state+json": {
        "a4f5308878a0465aa967636e8bdbfcfa": {
          "model_module": "@jupyter-widgets/controls",
          "model_name": "HBoxModel",
          "model_module_version": "1.5.0",
          "state": {
            "_dom_classes": [],
            "_model_module": "@jupyter-widgets/controls",
            "_model_module_version": "1.5.0",
            "_model_name": "HBoxModel",
            "_view_count": null,
            "_view_module": "@jupyter-widgets/controls",
            "_view_module_version": "1.5.0",
            "_view_name": "HBoxView",
            "box_style": "",
            "children": [
              "IPY_MODEL_067e40993f3a45cc834cb66b1697bf35",
              "IPY_MODEL_32a8ecd3984e49f090458420ed0994e3",
              "IPY_MODEL_6eff5f2a864d4e2494a436ae452e8136"
            ],
            "layout": "IPY_MODEL_ce71b8d3389045a3b3b86196bb29bff3"
          }
        },
        "067e40993f3a45cc834cb66b1697bf35": {
          "model_module": "@jupyter-widgets/controls",
          "model_name": "HTMLModel",
          "model_module_version": "1.5.0",
          "state": {
            "_dom_classes": [],
            "_model_module": "@jupyter-widgets/controls",
            "_model_module_version": "1.5.0",
            "_model_name": "HTMLModel",
            "_view_count": null,
            "_view_module": "@jupyter-widgets/controls",
            "_view_module_version": "1.5.0",
            "_view_name": "HTMLView",
            "description": "",
            "description_tooltip": null,
            "layout": "IPY_MODEL_04e38409793e4e188b4274d67bac972f",
            "placeholder": "​",
            "style": "IPY_MODEL_ba43c64e52ce4c618e17dc745e4585df",
            "value": "Processing: 100%"
          }
        },
        "32a8ecd3984e49f090458420ed0994e3": {
          "model_module": "@jupyter-widgets/controls",
          "model_name": "FloatProgressModel",
          "model_module_version": "1.5.0",
          "state": {
            "_dom_classes": [],
            "_model_module": "@jupyter-widgets/controls",
            "_model_module_version": "1.5.0",
            "_model_name": "FloatProgressModel",
            "_view_count": null,
            "_view_module": "@jupyter-widgets/controls",
            "_view_module_version": "1.5.0",
            "_view_name": "ProgressView",
            "bar_style": "",
            "description": "",
            "description_tooltip": null,
            "layout": "IPY_MODEL_e582de9f479b46999e3f2ada6aa481ad",
            "max": 81,
            "min": 0,
            "orientation": "horizontal",
            "style": "IPY_MODEL_8c4ee7d8cb544a36b01f96d9b5819486",
            "value": 81
          }
        },
        "6eff5f2a864d4e2494a436ae452e8136": {
          "model_module": "@jupyter-widgets/controls",
          "model_name": "HTMLModel",
          "model_module_version": "1.5.0",
          "state": {
            "_dom_classes": [],
            "_model_module": "@jupyter-widgets/controls",
            "_model_module_version": "1.5.0",
            "_model_name": "HTMLModel",
            "_view_count": null,
            "_view_module": "@jupyter-widgets/controls",
            "_view_module_version": "1.5.0",
            "_view_name": "HTMLView",
            "description": "",
            "description_tooltip": null,
            "layout": "IPY_MODEL_6416e2826da04ad288be9a6c405ac2ae",
            "placeholder": "​",
            "style": "IPY_MODEL_8c45aa79f4284b64af3aacf9bec6740f",
            "value": " 81/81 [00:37&lt;00:00,  2.82it/s]"
          }
        },
        "ce71b8d3389045a3b3b86196bb29bff3": {
          "model_module": "@jupyter-widgets/base",
          "model_name": "LayoutModel",
          "model_module_version": "1.2.0",
          "state": {
            "_model_module": "@jupyter-widgets/base",
            "_model_module_version": "1.2.0",
            "_model_name": "LayoutModel",
            "_view_count": null,
            "_view_module": "@jupyter-widgets/base",
            "_view_module_version": "1.2.0",
            "_view_name": "LayoutView",
            "align_content": null,
            "align_items": null,
            "align_self": null,
            "border": null,
            "bottom": null,
            "display": null,
            "flex": null,
            "flex_flow": null,
            "grid_area": null,
            "grid_auto_columns": null,
            "grid_auto_flow": null,
            "grid_auto_rows": null,
            "grid_column": null,
            "grid_gap": null,
            "grid_row": null,
            "grid_template_areas": null,
            "grid_template_columns": null,
            "grid_template_rows": null,
            "height": null,
            "justify_content": null,
            "justify_items": null,
            "left": null,
            "margin": null,
            "max_height": null,
            "max_width": null,
            "min_height": null,
            "min_width": null,
            "object_fit": null,
            "object_position": null,
            "order": null,
            "overflow": null,
            "overflow_x": null,
            "overflow_y": null,
            "padding": null,
            "right": null,
            "top": null,
            "visibility": "hidden",
            "width": null
          }
        },
        "04e38409793e4e188b4274d67bac972f": {
          "model_module": "@jupyter-widgets/base",
          "model_name": "LayoutModel",
          "model_module_version": "1.2.0",
          "state": {
            "_model_module": "@jupyter-widgets/base",
            "_model_module_version": "1.2.0",
            "_model_name": "LayoutModel",
            "_view_count": null,
            "_view_module": "@jupyter-widgets/base",
            "_view_module_version": "1.2.0",
            "_view_name": "LayoutView",
            "align_content": null,
            "align_items": null,
            "align_self": null,
            "border": null,
            "bottom": null,
            "display": null,
            "flex": null,
            "flex_flow": null,
            "grid_area": null,
            "grid_auto_columns": null,
            "grid_auto_flow": null,
            "grid_auto_rows": null,
            "grid_column": null,
            "grid_gap": null,
            "grid_row": null,
            "grid_template_areas": null,
            "grid_template_columns": null,
            "grid_template_rows": null,
            "height": null,
            "justify_content": null,
            "justify_items": null,
            "left": null,
            "margin": null,
            "max_height": null,
            "max_width": null,
            "min_height": null,
            "min_width": null,
            "object_fit": null,
            "object_position": null,
            "order": null,
            "overflow": null,
            "overflow_x": null,
            "overflow_y": null,
            "padding": null,
            "right": null,
            "top": null,
            "visibility": null,
            "width": null
          }
        },
        "ba43c64e52ce4c618e17dc745e4585df": {
          "model_module": "@jupyter-widgets/controls",
          "model_name": "DescriptionStyleModel",
          "model_module_version": "1.5.0",
          "state": {
            "_model_module": "@jupyter-widgets/controls",
            "_model_module_version": "1.5.0",
            "_model_name": "DescriptionStyleModel",
            "_view_count": null,
            "_view_module": "@jupyter-widgets/base",
            "_view_module_version": "1.2.0",
            "_view_name": "StyleView",
            "description_width": ""
          }
        },
        "e582de9f479b46999e3f2ada6aa481ad": {
          "model_module": "@jupyter-widgets/base",
          "model_name": "LayoutModel",
          "model_module_version": "1.2.0",
          "state": {
            "_model_module": "@jupyter-widgets/base",
            "_model_module_version": "1.2.0",
            "_model_name": "LayoutModel",
            "_view_count": null,
            "_view_module": "@jupyter-widgets/base",
            "_view_module_version": "1.2.0",
            "_view_name": "LayoutView",
            "align_content": null,
            "align_items": null,
            "align_self": null,
            "border": null,
            "bottom": null,
            "display": null,
            "flex": null,
            "flex_flow": null,
            "grid_area": null,
            "grid_auto_columns": null,
            "grid_auto_flow": null,
            "grid_auto_rows": null,
            "grid_column": null,
            "grid_gap": null,
            "grid_row": null,
            "grid_template_areas": null,
            "grid_template_columns": null,
            "grid_template_rows": null,
            "height": null,
            "justify_content": null,
            "justify_items": null,
            "left": null,
            "margin": null,
            "max_height": null,
            "max_width": null,
            "min_height": null,
            "min_width": null,
            "object_fit": null,
            "object_position": null,
            "order": null,
            "overflow": null,
            "overflow_x": null,
            "overflow_y": null,
            "padding": null,
            "right": null,
            "top": null,
            "visibility": null,
            "width": null
          }
        },
        "8c4ee7d8cb544a36b01f96d9b5819486": {
          "model_module": "@jupyter-widgets/controls",
          "model_name": "ProgressStyleModel",
          "model_module_version": "1.5.0",
          "state": {
            "_model_module": "@jupyter-widgets/controls",
            "_model_module_version": "1.5.0",
            "_model_name": "ProgressStyleModel",
            "_view_count": null,
            "_view_module": "@jupyter-widgets/base",
            "_view_module_version": "1.2.0",
            "_view_name": "StyleView",
            "bar_color": null,
            "description_width": ""
          }
        },
        "6416e2826da04ad288be9a6c405ac2ae": {
          "model_module": "@jupyter-widgets/base",
          "model_name": "LayoutModel",
          "model_module_version": "1.2.0",
          "state": {
            "_model_module": "@jupyter-widgets/base",
            "_model_module_version": "1.2.0",
            "_model_name": "LayoutModel",
            "_view_count": null,
            "_view_module": "@jupyter-widgets/base",
            "_view_module_version": "1.2.0",
            "_view_name": "LayoutView",
            "align_content": null,
            "align_items": null,
            "align_self": null,
            "border": null,
            "bottom": null,
            "display": null,
            "flex": null,
            "flex_flow": null,
            "grid_area": null,
            "grid_auto_columns": null,
            "grid_auto_flow": null,
            "grid_auto_rows": null,
            "grid_column": null,
            "grid_gap": null,
            "grid_row": null,
            "grid_template_areas": null,
            "grid_template_columns": null,
            "grid_template_rows": null,
            "height": null,
            "justify_content": null,
            "justify_items": null,
            "left": null,
            "margin": null,
            "max_height": null,
            "max_width": null,
            "min_height": null,
            "min_width": null,
            "object_fit": null,
            "object_position": null,
            "order": null,
            "overflow": null,
            "overflow_x": null,
            "overflow_y": null,
            "padding": null,
            "right": null,
            "top": null,
            "visibility": null,
            "width": null
          }
        },
        "8c45aa79f4284b64af3aacf9bec6740f": {
          "model_module": "@jupyter-widgets/controls",
          "model_name": "DescriptionStyleModel",
          "model_module_version": "1.5.0",
          "state": {
            "_model_module": "@jupyter-widgets/controls",
            "_model_module_version": "1.5.0",
            "_model_name": "DescriptionStyleModel",
            "_view_count": null,
            "_view_module": "@jupyter-widgets/base",
            "_view_module_version": "1.2.0",
            "_view_name": "StyleView",
            "description_width": ""
          }
        }
      }
    }
  },
  "cells": [
    {
      "cell_type": "markdown",
      "metadata": {
        "id": "view-in-github",
        "colab_type": "text"
      },
      "source": [
        "<a href=\"https://colab.research.google.com/github/Eshitva/Fuel-Cell-Performance/blob/main/FuelCellPerformance.ipynb\" target=\"_parent\"><img src=\"https://colab.research.google.com/assets/colab-badge.svg\" alt=\"Open In Colab\"/></a>"
      ]
    },
    {
      "cell_type": "code",
      "execution_count": null,
      "metadata": {
        "colab": {
          "base_uri": "https://localhost:8080/"
        },
        "id": "WPdhO-_AP_6e",
        "outputId": "ef0e85bc-8823-48a5-c217-bb01784b2269"
      },
      "outputs": [
        {
          "output_type": "stream",
          "name": "stdout",
          "text": [
            "\u001b[2K     \u001b[90m━━━━━━━━━━━━━━━━━━━━━━━━━━━━━━━━━━━━━━━━\u001b[0m \u001b[32m60.4/60.4 kB\u001b[0m \u001b[31m4.5 MB/s\u001b[0m eta \u001b[36m0:00:00\u001b[0m\n",
            "\u001b[2K     \u001b[90m━━━━━━━━━━━━━━━━━━━━━━━━━━━━━━━━━━━━━━━━\u001b[0m \u001b[32m165.8/165.8 kB\u001b[0m \u001b[31m9.7 MB/s\u001b[0m eta \u001b[36m0:00:00\u001b[0m\n",
            "\u001b[?25h  Preparing metadata (setup.py) ... \u001b[?25l\u001b[?25hdone\n",
            "\u001b[2K   \u001b[90m━━━━━━━━━━━━━━━━━━━━━━━━━━━━━━━━━━━━━━━━\u001b[0m \u001b[32m486.1/486.1 kB\u001b[0m \u001b[31m30.9 MB/s\u001b[0m eta \u001b[36m0:00:00\u001b[0m\n",
            "\u001b[2K   \u001b[90m━━━━━━━━━━━━━━━━━━━━━━━━━━━━━━━━━━━━━━━━\u001b[0m \u001b[32m106.8/106.8 kB\u001b[0m \u001b[31m9.4 MB/s\u001b[0m eta \u001b[36m0:00:00\u001b[0m\n",
            "\u001b[2K   \u001b[90m━━━━━━━━━━━━━━━━━━━━━━━━━━━━━━━━━━━━━━━━\u001b[0m \u001b[32m21.8/21.8 MB\u001b[0m \u001b[31m23.8 MB/s\u001b[0m eta \u001b[36m0:00:00\u001b[0m\n",
            "\u001b[2K   \u001b[90m━━━━━━━━━━━━━━━━━━━━━━━━━━━━━━━━━━━━━━━━\u001b[0m \u001b[32m82.0/82.0 kB\u001b[0m \u001b[31m6.1 MB/s\u001b[0m eta \u001b[36m0:00:00\u001b[0m\n",
            "\u001b[2K   \u001b[90m━━━━━━━━━━━━━━━━━━━━━━━━━━━━━━━━━━━━━━━━\u001b[0m \u001b[32m302.2/302.2 kB\u001b[0m \u001b[31m22.9 MB/s\u001b[0m eta \u001b[36m0:00:00\u001b[0m\n",
            "\u001b[2K   \u001b[90m━━━━━━━━━━━━━━━━━━━━━━━━━━━━━━━━━━━━━━━━\u001b[0m \u001b[32m79.9/79.9 MB\u001b[0m \u001b[31m8.8 MB/s\u001b[0m eta \u001b[36m0:00:00\u001b[0m\n",
            "\u001b[2K   \u001b[90m━━━━━━━━━━━━━━━━━━━━━━━━━━━━━━━━━━━━━━━━\u001b[0m \u001b[32m11.6/11.6 MB\u001b[0m \u001b[31m63.8 MB/s\u001b[0m eta \u001b[36m0:00:00\u001b[0m\n",
            "\u001b[2K   \u001b[90m━━━━━━━━━━━━━━━━━━━━━━━━━━━━━━━━━━━━━━━━\u001b[0m \u001b[32m12.3/12.3 MB\u001b[0m \u001b[31m86.7 MB/s\u001b[0m eta \u001b[36m0:00:00\u001b[0m\n",
            "\u001b[2K   \u001b[90m━━━━━━━━━━━━━━━━━━━━━━━━━━━━━━━━━━━━━━━━\u001b[0m \u001b[32m80.7/80.7 kB\u001b[0m \u001b[31m6.6 MB/s\u001b[0m eta \u001b[36m0:00:00\u001b[0m\n",
            "\u001b[2K   \u001b[90m━━━━━━━━━━━━━━━━━━━━━━━━━━━━━━━━━━━━━━━━\u001b[0m \u001b[32m2.1/2.1 MB\u001b[0m \u001b[31m70.2 MB/s\u001b[0m eta \u001b[36m0:00:00\u001b[0m\n",
            "\u001b[2K   \u001b[90m━━━━━━━━━━━━━━━━━━━━━━━━━━━━━━━━━━━━━━━━\u001b[0m \u001b[32m12.1/12.1 MB\u001b[0m \u001b[31m81.2 MB/s\u001b[0m eta \u001b[36m0:00:00\u001b[0m\n",
            "\u001b[2K   \u001b[90m━━━━━━━━━━━━━━━━━━━━━━━━━━━━━━━━━━━━━━━━\u001b[0m \u001b[32m36.4/36.4 MB\u001b[0m \u001b[31m14.4 MB/s\u001b[0m eta \u001b[36m0:00:00\u001b[0m\n",
            "\u001b[2K   \u001b[90m━━━━━━━━━━━━━━━━━━━━━━━━━━━━━━━━━━━━━━━━\u001b[0m \u001b[32m44.0/44.0 kB\u001b[0m \u001b[31m3.0 MB/s\u001b[0m eta \u001b[36m0:00:00\u001b[0m\n",
            "\u001b[2K   \u001b[90m━━━━━━━━━━━━━━━━━━━━━━━━━━━━━━━━━━━━━━━━\u001b[0m \u001b[32m194.1/194.1 kB\u001b[0m \u001b[31m15.3 MB/s\u001b[0m eta \u001b[36m0:00:00\u001b[0m\n",
            "\u001b[2K   \u001b[90m━━━━━━━━━━━━━━━━━━━━━━━━━━━━━━━━━━━━━━━━\u001b[0m \u001b[32m7.8/7.8 MB\u001b[0m \u001b[31m101.0 MB/s\u001b[0m eta \u001b[36m0:00:00\u001b[0m\n",
            "\u001b[2K   \u001b[90m━━━━━━━━━━━━━━━━━━━━━━━━━━━━━━━━━━━━━━━━\u001b[0m \u001b[32m1.6/1.6 MB\u001b[0m \u001b[31m66.2 MB/s\u001b[0m eta \u001b[36m0:00:00\u001b[0m\n",
            "\u001b[2K   \u001b[90m━━━━━━━━━━━━━━━━━━━━━━━━━━━━━━━━━━━━━━━━\u001b[0m \u001b[32m130.1/130.1 kB\u001b[0m \u001b[31m10.2 MB/s\u001b[0m eta \u001b[36m0:00:00\u001b[0m\n",
            "\u001b[2K   \u001b[90m━━━━━━━━━━━━━━━━━━━━━━━━━━━━━━━━━━━━━━━━\u001b[0m \u001b[32m2.1/2.1 MB\u001b[0m \u001b[31m73.0 MB/s\u001b[0m eta \u001b[36m0:00:00\u001b[0m\n",
            "\u001b[2K   \u001b[90m━━━━━━━━━━━━━━━━━━━━━━━━━━━━━━━━━━━━━━━━\u001b[0m \u001b[32m101.7/101.7 kB\u001b[0m \u001b[31m8.4 MB/s\u001b[0m eta \u001b[36m0:00:00\u001b[0m\n",
            "\u001b[2K   \u001b[90m━━━━━━━━━━━━━━━━━━━━━━━━━━━━━━━━━━━━━━━━\u001b[0m \u001b[32m228.0/228.0 kB\u001b[0m \u001b[31m15.9 MB/s\u001b[0m eta \u001b[36m0:00:00\u001b[0m\n",
            "\u001b[?25h  Building wheel for pyod (setup.py) ... \u001b[?25l\u001b[?25hdone\n",
            "\u001b[31mERROR: pip's dependency resolver does not currently take into account all the packages that are installed. This behaviour is the source of the following dependency conflicts.\n",
            "google-colab 1.0.0 requires pandas==2.2.2, but you have pandas 2.1.4 which is incompatible.\n",
            "mizani 0.13.1 requires pandas>=2.2.0, but you have pandas 2.1.4 which is incompatible.\n",
            "plotnine 0.14.4 requires matplotlib>=3.8.0, but you have matplotlib 3.7.5 which is incompatible.\n",
            "plotnine 0.14.4 requires pandas>=2.2.0, but you have pandas 2.1.4 which is incompatible.\u001b[0m\u001b[31m\n",
            "\u001b[0m"
          ]
        }
      ],
      "source": [
        "!pip install pycaret --quiet"
      ]
    },
    {
      "cell_type": "code",
      "source": [
        "import pandas as pd\n",
        "from pycaret.regression import *\n"
      ],
      "metadata": {
        "id": "OHk6UqhLRZNL"
      },
      "execution_count": null,
      "outputs": []
    },
    {
      "cell_type": "code",
      "source": [
        "file_path = '/content/Fuel_cell_performance_data-Full.csv'\n",
        "data = pd.read_csv(file_path)"
      ],
      "metadata": {
        "id": "-bulqSkWRb-B"
      },
      "execution_count": null,
      "outputs": []
    },
    {
      "cell_type": "code",
      "source": [
        "target = 'Target2'\n",
        "X = data.iloc[:, :-5]\n",
        "y = data.iloc[:, -5:]\n",
        "pycaret_data = pd.concat([X, y[target]], axis=1)"
      ],
      "metadata": {
        "id": "sp3mKa6zRhmX"
      },
      "execution_count": null,
      "outputs": []
    },
    {
      "cell_type": "code",
      "source": [
        "regression_setup = setup(data=pycaret_data,target=target,session_id=42,normalize=True)"
      ],
      "metadata": {
        "colab": {
          "base_uri": "https://localhost:8080/",
          "height": 708
        },
        "id": "a80rBbsuRpwK",
        "outputId": "c1087c0c-5252-4c90-de69-ea0d806ff01f"
      },
      "execution_count": null,
      "outputs": [
        {
          "output_type": "display_data",
          "data": {
            "text/plain": [
              "<pandas.io.formats.style.Styler at 0x79f980d18fd0>"
            ],
            "text/html": [
              "<style type=\"text/css\">\n",
              "#T_40cc8_row8_col1, #T_40cc8_row12_col1 {\n",
              "  background-color: lightgreen;\n",
              "}\n",
              "</style>\n",
              "<table id=\"T_40cc8\" class=\"dataframe\">\n",
              "  <thead>\n",
              "    <tr>\n",
              "      <th class=\"blank level0\" >&nbsp;</th>\n",
              "      <th id=\"T_40cc8_level0_col0\" class=\"col_heading level0 col0\" >Description</th>\n",
              "      <th id=\"T_40cc8_level0_col1\" class=\"col_heading level0 col1\" >Value</th>\n",
              "    </tr>\n",
              "  </thead>\n",
              "  <tbody>\n",
              "    <tr>\n",
              "      <th id=\"T_40cc8_level0_row0\" class=\"row_heading level0 row0\" >0</th>\n",
              "      <td id=\"T_40cc8_row0_col0\" class=\"data row0 col0\" >Session id</td>\n",
              "      <td id=\"T_40cc8_row0_col1\" class=\"data row0 col1\" >42</td>\n",
              "    </tr>\n",
              "    <tr>\n",
              "      <th id=\"T_40cc8_level0_row1\" class=\"row_heading level0 row1\" >1</th>\n",
              "      <td id=\"T_40cc8_row1_col0\" class=\"data row1 col0\" >Target</td>\n",
              "      <td id=\"T_40cc8_row1_col1\" class=\"data row1 col1\" >Target2</td>\n",
              "    </tr>\n",
              "    <tr>\n",
              "      <th id=\"T_40cc8_level0_row2\" class=\"row_heading level0 row2\" >2</th>\n",
              "      <td id=\"T_40cc8_row2_col0\" class=\"data row2 col0\" >Target type</td>\n",
              "      <td id=\"T_40cc8_row2_col1\" class=\"data row2 col1\" >Regression</td>\n",
              "    </tr>\n",
              "    <tr>\n",
              "      <th id=\"T_40cc8_level0_row3\" class=\"row_heading level0 row3\" >3</th>\n",
              "      <td id=\"T_40cc8_row3_col0\" class=\"data row3 col0\" >Original data shape</td>\n",
              "      <td id=\"T_40cc8_row3_col1\" class=\"data row3 col1\" >(1000, 16)</td>\n",
              "    </tr>\n",
              "    <tr>\n",
              "      <th id=\"T_40cc8_level0_row4\" class=\"row_heading level0 row4\" >4</th>\n",
              "      <td id=\"T_40cc8_row4_col0\" class=\"data row4 col0\" >Transformed data shape</td>\n",
              "      <td id=\"T_40cc8_row4_col1\" class=\"data row4 col1\" >(1000, 16)</td>\n",
              "    </tr>\n",
              "    <tr>\n",
              "      <th id=\"T_40cc8_level0_row5\" class=\"row_heading level0 row5\" >5</th>\n",
              "      <td id=\"T_40cc8_row5_col0\" class=\"data row5 col0\" >Transformed train set shape</td>\n",
              "      <td id=\"T_40cc8_row5_col1\" class=\"data row5 col1\" >(700, 16)</td>\n",
              "    </tr>\n",
              "    <tr>\n",
              "      <th id=\"T_40cc8_level0_row6\" class=\"row_heading level0 row6\" >6</th>\n",
              "      <td id=\"T_40cc8_row6_col0\" class=\"data row6 col0\" >Transformed test set shape</td>\n",
              "      <td id=\"T_40cc8_row6_col1\" class=\"data row6 col1\" >(300, 16)</td>\n",
              "    </tr>\n",
              "    <tr>\n",
              "      <th id=\"T_40cc8_level0_row7\" class=\"row_heading level0 row7\" >7</th>\n",
              "      <td id=\"T_40cc8_row7_col0\" class=\"data row7 col0\" >Numeric features</td>\n",
              "      <td id=\"T_40cc8_row7_col1\" class=\"data row7 col1\" >15</td>\n",
              "    </tr>\n",
              "    <tr>\n",
              "      <th id=\"T_40cc8_level0_row8\" class=\"row_heading level0 row8\" >8</th>\n",
              "      <td id=\"T_40cc8_row8_col0\" class=\"data row8 col0\" >Preprocess</td>\n",
              "      <td id=\"T_40cc8_row8_col1\" class=\"data row8 col1\" >True</td>\n",
              "    </tr>\n",
              "    <tr>\n",
              "      <th id=\"T_40cc8_level0_row9\" class=\"row_heading level0 row9\" >9</th>\n",
              "      <td id=\"T_40cc8_row9_col0\" class=\"data row9 col0\" >Imputation type</td>\n",
              "      <td id=\"T_40cc8_row9_col1\" class=\"data row9 col1\" >simple</td>\n",
              "    </tr>\n",
              "    <tr>\n",
              "      <th id=\"T_40cc8_level0_row10\" class=\"row_heading level0 row10\" >10</th>\n",
              "      <td id=\"T_40cc8_row10_col0\" class=\"data row10 col0\" >Numeric imputation</td>\n",
              "      <td id=\"T_40cc8_row10_col1\" class=\"data row10 col1\" >mean</td>\n",
              "    </tr>\n",
              "    <tr>\n",
              "      <th id=\"T_40cc8_level0_row11\" class=\"row_heading level0 row11\" >11</th>\n",
              "      <td id=\"T_40cc8_row11_col0\" class=\"data row11 col0\" >Categorical imputation</td>\n",
              "      <td id=\"T_40cc8_row11_col1\" class=\"data row11 col1\" >mode</td>\n",
              "    </tr>\n",
              "    <tr>\n",
              "      <th id=\"T_40cc8_level0_row12\" class=\"row_heading level0 row12\" >12</th>\n",
              "      <td id=\"T_40cc8_row12_col0\" class=\"data row12 col0\" >Normalize</td>\n",
              "      <td id=\"T_40cc8_row12_col1\" class=\"data row12 col1\" >True</td>\n",
              "    </tr>\n",
              "    <tr>\n",
              "      <th id=\"T_40cc8_level0_row13\" class=\"row_heading level0 row13\" >13</th>\n",
              "      <td id=\"T_40cc8_row13_col0\" class=\"data row13 col0\" >Normalize method</td>\n",
              "      <td id=\"T_40cc8_row13_col1\" class=\"data row13 col1\" >zscore</td>\n",
              "    </tr>\n",
              "    <tr>\n",
              "      <th id=\"T_40cc8_level0_row14\" class=\"row_heading level0 row14\" >14</th>\n",
              "      <td id=\"T_40cc8_row14_col0\" class=\"data row14 col0\" >Fold Generator</td>\n",
              "      <td id=\"T_40cc8_row14_col1\" class=\"data row14 col1\" >KFold</td>\n",
              "    </tr>\n",
              "    <tr>\n",
              "      <th id=\"T_40cc8_level0_row15\" class=\"row_heading level0 row15\" >15</th>\n",
              "      <td id=\"T_40cc8_row15_col0\" class=\"data row15 col0\" >Fold Number</td>\n",
              "      <td id=\"T_40cc8_row15_col1\" class=\"data row15 col1\" >10</td>\n",
              "    </tr>\n",
              "    <tr>\n",
              "      <th id=\"T_40cc8_level0_row16\" class=\"row_heading level0 row16\" >16</th>\n",
              "      <td id=\"T_40cc8_row16_col0\" class=\"data row16 col0\" >CPU Jobs</td>\n",
              "      <td id=\"T_40cc8_row16_col1\" class=\"data row16 col1\" >-1</td>\n",
              "    </tr>\n",
              "    <tr>\n",
              "      <th id=\"T_40cc8_level0_row17\" class=\"row_heading level0 row17\" >17</th>\n",
              "      <td id=\"T_40cc8_row17_col0\" class=\"data row17 col0\" >Use GPU</td>\n",
              "      <td id=\"T_40cc8_row17_col1\" class=\"data row17 col1\" >False</td>\n",
              "    </tr>\n",
              "    <tr>\n",
              "      <th id=\"T_40cc8_level0_row18\" class=\"row_heading level0 row18\" >18</th>\n",
              "      <td id=\"T_40cc8_row18_col0\" class=\"data row18 col0\" >Log Experiment</td>\n",
              "      <td id=\"T_40cc8_row18_col1\" class=\"data row18 col1\" >False</td>\n",
              "    </tr>\n",
              "    <tr>\n",
              "      <th id=\"T_40cc8_level0_row19\" class=\"row_heading level0 row19\" >19</th>\n",
              "      <td id=\"T_40cc8_row19_col0\" class=\"data row19 col0\" >Experiment Name</td>\n",
              "      <td id=\"T_40cc8_row19_col1\" class=\"data row19 col1\" >reg-default-name</td>\n",
              "    </tr>\n",
              "    <tr>\n",
              "      <th id=\"T_40cc8_level0_row20\" class=\"row_heading level0 row20\" >20</th>\n",
              "      <td id=\"T_40cc8_row20_col0\" class=\"data row20 col0\" >USI</td>\n",
              "      <td id=\"T_40cc8_row20_col1\" class=\"data row20 col1\" >2137</td>\n",
              "    </tr>\n",
              "  </tbody>\n",
              "</table>\n"
            ]
          },
          "metadata": {}
        }
      ]
    },
    {
      "cell_type": "code",
      "source": [
        "best_model = compare_models(sort='R2')"
      ],
      "metadata": {
        "colab": {
          "base_uri": "https://localhost:8080/",
          "height": 645,
          "referenced_widgets": [
            "a4f5308878a0465aa967636e8bdbfcfa",
            "067e40993f3a45cc834cb66b1697bf35",
            "32a8ecd3984e49f090458420ed0994e3",
            "6eff5f2a864d4e2494a436ae452e8136",
            "ce71b8d3389045a3b3b86196bb29bff3",
            "04e38409793e4e188b4274d67bac972f",
            "ba43c64e52ce4c618e17dc745e4585df",
            "e582de9f479b46999e3f2ada6aa481ad",
            "8c4ee7d8cb544a36b01f96d9b5819486",
            "6416e2826da04ad288be9a6c405ac2ae",
            "8c45aa79f4284b64af3aacf9bec6740f"
          ]
        },
        "id": "tGTafc29RtKp",
        "outputId": "704cb563-6426-4cc0-d19d-d8dded35f0ba"
      },
      "execution_count": null,
      "outputs": [
        {
          "output_type": "display_data",
          "data": {
            "text/plain": [
              "<IPython.core.display.HTML object>"
            ],
            "text/html": []
          },
          "metadata": {}
        },
        {
          "output_type": "display_data",
          "data": {
            "text/plain": [
              "<pandas.io.formats.style.Styler at 0x79f9801dff10>"
            ],
            "text/html": [
              "<style type=\"text/css\">\n",
              "#T_bbc1a th {\n",
              "  text-align: left;\n",
              "}\n",
              "#T_bbc1a_row0_col0, #T_bbc1a_row0_col1, #T_bbc1a_row0_col5, #T_bbc1a_row0_col6, #T_bbc1a_row1_col0, #T_bbc1a_row1_col4, #T_bbc1a_row1_col6, #T_bbc1a_row2_col0, #T_bbc1a_row2_col4, #T_bbc1a_row2_col6, #T_bbc1a_row3_col0, #T_bbc1a_row3_col4, #T_bbc1a_row3_col6, #T_bbc1a_row4_col0, #T_bbc1a_row4_col2, #T_bbc1a_row4_col3, #T_bbc1a_row4_col4, #T_bbc1a_row4_col5, #T_bbc1a_row5_col0, #T_bbc1a_row5_col1, #T_bbc1a_row5_col2, #T_bbc1a_row5_col3, #T_bbc1a_row5_col4, #T_bbc1a_row5_col5, #T_bbc1a_row5_col6, #T_bbc1a_row6_col0, #T_bbc1a_row6_col1, #T_bbc1a_row6_col2, #T_bbc1a_row6_col3, #T_bbc1a_row6_col4, #T_bbc1a_row6_col5, #T_bbc1a_row6_col6, #T_bbc1a_row7_col0, #T_bbc1a_row7_col1, #T_bbc1a_row7_col2, #T_bbc1a_row7_col3, #T_bbc1a_row7_col4, #T_bbc1a_row7_col5, #T_bbc1a_row7_col6, #T_bbc1a_row8_col0, #T_bbc1a_row8_col1, #T_bbc1a_row8_col2, #T_bbc1a_row8_col3, #T_bbc1a_row8_col4, #T_bbc1a_row8_col5, #T_bbc1a_row8_col6, #T_bbc1a_row9_col0, #T_bbc1a_row9_col1, #T_bbc1a_row9_col2, #T_bbc1a_row9_col3, #T_bbc1a_row9_col4, #T_bbc1a_row9_col5, #T_bbc1a_row9_col6, #T_bbc1a_row10_col0, #T_bbc1a_row10_col1, #T_bbc1a_row10_col2, #T_bbc1a_row10_col3, #T_bbc1a_row10_col4, #T_bbc1a_row10_col5, #T_bbc1a_row10_col6, #T_bbc1a_row11_col0, #T_bbc1a_row11_col1, #T_bbc1a_row11_col2, #T_bbc1a_row11_col3, #T_bbc1a_row11_col4, #T_bbc1a_row11_col5, #T_bbc1a_row11_col6, #T_bbc1a_row12_col0, #T_bbc1a_row12_col1, #T_bbc1a_row12_col2, #T_bbc1a_row12_col3, #T_bbc1a_row12_col4, #T_bbc1a_row12_col5, #T_bbc1a_row12_col6, #T_bbc1a_row13_col0, #T_bbc1a_row13_col1, #T_bbc1a_row13_col2, #T_bbc1a_row13_col3, #T_bbc1a_row13_col4, #T_bbc1a_row13_col5, #T_bbc1a_row13_col6, #T_bbc1a_row14_col0, #T_bbc1a_row14_col1, #T_bbc1a_row14_col2, #T_bbc1a_row14_col3, #T_bbc1a_row14_col4, #T_bbc1a_row14_col5, #T_bbc1a_row14_col6, #T_bbc1a_row15_col0, #T_bbc1a_row15_col1, #T_bbc1a_row15_col2, #T_bbc1a_row15_col3, #T_bbc1a_row15_col4, #T_bbc1a_row15_col5, #T_bbc1a_row15_col6, #T_bbc1a_row16_col0, #T_bbc1a_row16_col1, #T_bbc1a_row16_col2, #T_bbc1a_row16_col3, #T_bbc1a_row16_col4, #T_bbc1a_row16_col5, #T_bbc1a_row16_col6, #T_bbc1a_row17_col0, #T_bbc1a_row17_col1, #T_bbc1a_row17_col2, #T_bbc1a_row17_col3, #T_bbc1a_row17_col4, #T_bbc1a_row17_col5, #T_bbc1a_row17_col6, #T_bbc1a_row18_col0, #T_bbc1a_row18_col1, #T_bbc1a_row18_col2, #T_bbc1a_row18_col3, #T_bbc1a_row18_col4, #T_bbc1a_row18_col5, #T_bbc1a_row18_col6 {\n",
              "  text-align: left;\n",
              "}\n",
              "#T_bbc1a_row0_col2, #T_bbc1a_row0_col3, #T_bbc1a_row0_col4, #T_bbc1a_row1_col1, #T_bbc1a_row1_col2, #T_bbc1a_row1_col3, #T_bbc1a_row1_col5, #T_bbc1a_row2_col1, #T_bbc1a_row2_col2, #T_bbc1a_row2_col3, #T_bbc1a_row2_col5, #T_bbc1a_row3_col1, #T_bbc1a_row3_col2, #T_bbc1a_row3_col3, #T_bbc1a_row3_col5, #T_bbc1a_row4_col1, #T_bbc1a_row4_col6 {\n",
              "  text-align: left;\n",
              "  background-color: yellow;\n",
              "}\n",
              "#T_bbc1a_row0_col7, #T_bbc1a_row1_col7, #T_bbc1a_row2_col7, #T_bbc1a_row3_col7, #T_bbc1a_row4_col7, #T_bbc1a_row5_col7, #T_bbc1a_row6_col7, #T_bbc1a_row7_col7, #T_bbc1a_row8_col7, #T_bbc1a_row9_col7, #T_bbc1a_row10_col7, #T_bbc1a_row11_col7, #T_bbc1a_row12_col7, #T_bbc1a_row13_col7, #T_bbc1a_row14_col7, #T_bbc1a_row15_col7, #T_bbc1a_row16_col7, #T_bbc1a_row18_col7 {\n",
              "  text-align: left;\n",
              "  background-color: lightgrey;\n",
              "}\n",
              "#T_bbc1a_row17_col7 {\n",
              "  text-align: left;\n",
              "  background-color: yellow;\n",
              "  background-color: lightgrey;\n",
              "}\n",
              "</style>\n",
              "<table id=\"T_bbc1a\" class=\"dataframe\">\n",
              "  <thead>\n",
              "    <tr>\n",
              "      <th class=\"blank level0\" >&nbsp;</th>\n",
              "      <th id=\"T_bbc1a_level0_col0\" class=\"col_heading level0 col0\" >Model</th>\n",
              "      <th id=\"T_bbc1a_level0_col1\" class=\"col_heading level0 col1\" >MAE</th>\n",
              "      <th id=\"T_bbc1a_level0_col2\" class=\"col_heading level0 col2\" >MSE</th>\n",
              "      <th id=\"T_bbc1a_level0_col3\" class=\"col_heading level0 col3\" >RMSE</th>\n",
              "      <th id=\"T_bbc1a_level0_col4\" class=\"col_heading level0 col4\" >R2</th>\n",
              "      <th id=\"T_bbc1a_level0_col5\" class=\"col_heading level0 col5\" >RMSLE</th>\n",
              "      <th id=\"T_bbc1a_level0_col6\" class=\"col_heading level0 col6\" >MAPE</th>\n",
              "      <th id=\"T_bbc1a_level0_col7\" class=\"col_heading level0 col7\" >TT (Sec)</th>\n",
              "    </tr>\n",
              "  </thead>\n",
              "  <tbody>\n",
              "    <tr>\n",
              "      <th id=\"T_bbc1a_level0_row0\" class=\"row_heading level0 row0\" >br</th>\n",
              "      <td id=\"T_bbc1a_row0_col0\" class=\"data row0 col0\" >Bayesian Ridge</td>\n",
              "      <td id=\"T_bbc1a_row0_col1\" class=\"data row0 col1\" >0.2592</td>\n",
              "      <td id=\"T_bbc1a_row0_col2\" class=\"data row0 col2\" >0.0998</td>\n",
              "      <td id=\"T_bbc1a_row0_col3\" class=\"data row0 col3\" >0.3155</td>\n",
              "      <td id=\"T_bbc1a_row0_col4\" class=\"data row0 col4\" >0.6539</td>\n",
              "      <td id=\"T_bbc1a_row0_col5\" class=\"data row0 col5\" >0.1408</td>\n",
              "      <td id=\"T_bbc1a_row0_col6\" class=\"data row0 col6\" >0.2529</td>\n",
              "      <td id=\"T_bbc1a_row0_col7\" class=\"data row0 col7\" >0.0240</td>\n",
              "    </tr>\n",
              "    <tr>\n",
              "      <th id=\"T_bbc1a_level0_row1\" class=\"row_heading level0 row1\" >lr</th>\n",
              "      <td id=\"T_bbc1a_row1_col0\" class=\"data row1 col0\" >Linear Regression</td>\n",
              "      <td id=\"T_bbc1a_row1_col1\" class=\"data row1 col1\" >0.2591</td>\n",
              "      <td id=\"T_bbc1a_row1_col2\" class=\"data row1 col2\" >0.0998</td>\n",
              "      <td id=\"T_bbc1a_row1_col3\" class=\"data row1 col3\" >0.3155</td>\n",
              "      <td id=\"T_bbc1a_row1_col4\" class=\"data row1 col4\" >0.6537</td>\n",
              "      <td id=\"T_bbc1a_row1_col5\" class=\"data row1 col5\" >0.1407</td>\n",
              "      <td id=\"T_bbc1a_row1_col6\" class=\"data row1 col6\" >0.2521</td>\n",
              "      <td id=\"T_bbc1a_row1_col7\" class=\"data row1 col7\" >0.4760</td>\n",
              "    </tr>\n",
              "    <tr>\n",
              "      <th id=\"T_bbc1a_level0_row2\" class=\"row_heading level0 row2\" >ridge</th>\n",
              "      <td id=\"T_bbc1a_row2_col0\" class=\"data row2 col0\" >Ridge Regression</td>\n",
              "      <td id=\"T_bbc1a_row2_col1\" class=\"data row2 col1\" >0.2591</td>\n",
              "      <td id=\"T_bbc1a_row2_col2\" class=\"data row2 col2\" >0.0998</td>\n",
              "      <td id=\"T_bbc1a_row2_col3\" class=\"data row2 col3\" >0.3155</td>\n",
              "      <td id=\"T_bbc1a_row2_col4\" class=\"data row2 col4\" >0.6537</td>\n",
              "      <td id=\"T_bbc1a_row2_col5\" class=\"data row2 col5\" >0.1407</td>\n",
              "      <td id=\"T_bbc1a_row2_col6\" class=\"data row2 col6\" >0.2522</td>\n",
              "      <td id=\"T_bbc1a_row2_col7\" class=\"data row2 col7\" >0.0260</td>\n",
              "    </tr>\n",
              "    <tr>\n",
              "      <th id=\"T_bbc1a_level0_row3\" class=\"row_heading level0 row3\" >lar</th>\n",
              "      <td id=\"T_bbc1a_row3_col0\" class=\"data row3 col0\" >Least Angle Regression</td>\n",
              "      <td id=\"T_bbc1a_row3_col1\" class=\"data row3 col1\" >0.2591</td>\n",
              "      <td id=\"T_bbc1a_row3_col2\" class=\"data row3 col2\" >0.0998</td>\n",
              "      <td id=\"T_bbc1a_row3_col3\" class=\"data row3 col3\" >0.3155</td>\n",
              "      <td id=\"T_bbc1a_row3_col4\" class=\"data row3 col4\" >0.6537</td>\n",
              "      <td id=\"T_bbc1a_row3_col5\" class=\"data row3 col5\" >0.1407</td>\n",
              "      <td id=\"T_bbc1a_row3_col6\" class=\"data row3 col6\" >0.2521</td>\n",
              "      <td id=\"T_bbc1a_row3_col7\" class=\"data row3 col7\" >0.0290</td>\n",
              "    </tr>\n",
              "    <tr>\n",
              "      <th id=\"T_bbc1a_level0_row4\" class=\"row_heading level0 row4\" >huber</th>\n",
              "      <td id=\"T_bbc1a_row4_col0\" class=\"data row4 col0\" >Huber Regressor</td>\n",
              "      <td id=\"T_bbc1a_row4_col1\" class=\"data row4 col1\" >0.2591</td>\n",
              "      <td id=\"T_bbc1a_row4_col2\" class=\"data row4 col2\" >0.1008</td>\n",
              "      <td id=\"T_bbc1a_row4_col3\" class=\"data row4 col3\" >0.3171</td>\n",
              "      <td id=\"T_bbc1a_row4_col4\" class=\"data row4 col4\" >0.6497</td>\n",
              "      <td id=\"T_bbc1a_row4_col5\" class=\"data row4 col5\" >0.1411</td>\n",
              "      <td id=\"T_bbc1a_row4_col6\" class=\"data row4 col6\" >0.2504</td>\n",
              "      <td id=\"T_bbc1a_row4_col7\" class=\"data row4 col7\" >0.0290</td>\n",
              "    </tr>\n",
              "    <tr>\n",
              "      <th id=\"T_bbc1a_level0_row5\" class=\"row_heading level0 row5\" >et</th>\n",
              "      <td id=\"T_bbc1a_row5_col0\" class=\"data row5 col0\" >Extra Trees Regressor</td>\n",
              "      <td id=\"T_bbc1a_row5_col1\" class=\"data row5 col1\" >0.2681</td>\n",
              "      <td id=\"T_bbc1a_row5_col2\" class=\"data row5 col2\" >0.1072</td>\n",
              "      <td id=\"T_bbc1a_row5_col3\" class=\"data row5 col3\" >0.3270</td>\n",
              "      <td id=\"T_bbc1a_row5_col4\" class=\"data row5 col4\" >0.6275</td>\n",
              "      <td id=\"T_bbc1a_row5_col5\" class=\"data row5 col5\" >0.1464</td>\n",
              "      <td id=\"T_bbc1a_row5_col6\" class=\"data row5 col6\" >0.2641</td>\n",
              "      <td id=\"T_bbc1a_row5_col7\" class=\"data row5 col7\" >0.3060</td>\n",
              "    </tr>\n",
              "    <tr>\n",
              "      <th id=\"T_bbc1a_level0_row6\" class=\"row_heading level0 row6\" >rf</th>\n",
              "      <td id=\"T_bbc1a_row6_col0\" class=\"data row6 col0\" >Random Forest Regressor</td>\n",
              "      <td id=\"T_bbc1a_row6_col1\" class=\"data row6 col1\" >0.2665</td>\n",
              "      <td id=\"T_bbc1a_row6_col2\" class=\"data row6 col2\" >0.1069</td>\n",
              "      <td id=\"T_bbc1a_row6_col3\" class=\"data row6 col3\" >0.3264</td>\n",
              "      <td id=\"T_bbc1a_row6_col4\" class=\"data row6 col4\" >0.6274</td>\n",
              "      <td id=\"T_bbc1a_row6_col5\" class=\"data row6 col5\" >0.1464</td>\n",
              "      <td id=\"T_bbc1a_row6_col6\" class=\"data row6 col6\" >0.2635</td>\n",
              "      <td id=\"T_bbc1a_row6_col7\" class=\"data row6 col7\" >0.8370</td>\n",
              "    </tr>\n",
              "    <tr>\n",
              "      <th id=\"T_bbc1a_level0_row7\" class=\"row_heading level0 row7\" >gbr</th>\n",
              "      <td id=\"T_bbc1a_row7_col0\" class=\"data row7 col0\" >Gradient Boosting Regressor</td>\n",
              "      <td id=\"T_bbc1a_row7_col1\" class=\"data row7 col1\" >0.2671</td>\n",
              "      <td id=\"T_bbc1a_row7_col2\" class=\"data row7 col2\" >0.1080</td>\n",
              "      <td id=\"T_bbc1a_row7_col3\" class=\"data row7 col3\" >0.3279</td>\n",
              "      <td id=\"T_bbc1a_row7_col4\" class=\"data row7 col4\" >0.6250</td>\n",
              "      <td id=\"T_bbc1a_row7_col5\" class=\"data row7 col5\" >0.1480</td>\n",
              "      <td id=\"T_bbc1a_row7_col6\" class=\"data row7 col6\" >0.2664</td>\n",
              "      <td id=\"T_bbc1a_row7_col7\" class=\"data row7 col7\" >0.3640</td>\n",
              "    </tr>\n",
              "    <tr>\n",
              "      <th id=\"T_bbc1a_level0_row8\" class=\"row_heading level0 row8\" >ada</th>\n",
              "      <td id=\"T_bbc1a_row8_col0\" class=\"data row8 col0\" >AdaBoost Regressor</td>\n",
              "      <td id=\"T_bbc1a_row8_col1\" class=\"data row8 col1\" >0.2906</td>\n",
              "      <td id=\"T_bbc1a_row8_col2\" class=\"data row8 col2\" >0.1155</td>\n",
              "      <td id=\"T_bbc1a_row8_col3\" class=\"data row8 col3\" >0.3396</td>\n",
              "      <td id=\"T_bbc1a_row8_col4\" class=\"data row8 col4\" >0.6020</td>\n",
              "      <td id=\"T_bbc1a_row8_col5\" class=\"data row8 col5\" >0.1532</td>\n",
              "      <td id=\"T_bbc1a_row8_col6\" class=\"data row8 col6\" >0.2944</td>\n",
              "      <td id=\"T_bbc1a_row8_col7\" class=\"data row8 col7\" >0.1560</td>\n",
              "    </tr>\n",
              "    <tr>\n",
              "      <th id=\"T_bbc1a_level0_row9\" class=\"row_heading level0 row9\" >lightgbm</th>\n",
              "      <td id=\"T_bbc1a_row9_col0\" class=\"data row9 col0\" >Light Gradient Boosting Machine</td>\n",
              "      <td id=\"T_bbc1a_row9_col1\" class=\"data row9 col1\" >0.2794</td>\n",
              "      <td id=\"T_bbc1a_row9_col2\" class=\"data row9 col2\" >0.1196</td>\n",
              "      <td id=\"T_bbc1a_row9_col3\" class=\"data row9 col3\" >0.3454</td>\n",
              "      <td id=\"T_bbc1a_row9_col4\" class=\"data row9 col4\" >0.5842</td>\n",
              "      <td id=\"T_bbc1a_row9_col5\" class=\"data row9 col5\" >0.1561</td>\n",
              "      <td id=\"T_bbc1a_row9_col6\" class=\"data row9 col6\" >0.2782</td>\n",
              "      <td id=\"T_bbc1a_row9_col7\" class=\"data row9 col7\" >0.3060</td>\n",
              "    </tr>\n",
              "    <tr>\n",
              "      <th id=\"T_bbc1a_level0_row10\" class=\"row_heading level0 row10\" >xgboost</th>\n",
              "      <td id=\"T_bbc1a_row10_col0\" class=\"data row10 col0\" >Extreme Gradient Boosting</td>\n",
              "      <td id=\"T_bbc1a_row10_col1\" class=\"data row10 col1\" >0.2775</td>\n",
              "      <td id=\"T_bbc1a_row10_col2\" class=\"data row10 col2\" >0.1231</td>\n",
              "      <td id=\"T_bbc1a_row10_col3\" class=\"data row10 col3\" >0.3502</td>\n",
              "      <td id=\"T_bbc1a_row10_col4\" class=\"data row10 col4\" >0.5694</td>\n",
              "      <td id=\"T_bbc1a_row10_col5\" class=\"data row10 col5\" >0.1568</td>\n",
              "      <td id=\"T_bbc1a_row10_col6\" class=\"data row10 col6\" >0.2784</td>\n",
              "      <td id=\"T_bbc1a_row10_col7\" class=\"data row10 col7\" >0.4750</td>\n",
              "    </tr>\n",
              "    <tr>\n",
              "      <th id=\"T_bbc1a_level0_row11\" class=\"row_heading level0 row11\" >omp</th>\n",
              "      <td id=\"T_bbc1a_row11_col0\" class=\"data row11 col0\" >Orthogonal Matching Pursuit</td>\n",
              "      <td id=\"T_bbc1a_row11_col1\" class=\"data row11 col1\" >0.3048</td>\n",
              "      <td id=\"T_bbc1a_row11_col2\" class=\"data row11 col2\" >0.1412</td>\n",
              "      <td id=\"T_bbc1a_row11_col3\" class=\"data row11 col3\" >0.3751</td>\n",
              "      <td id=\"T_bbc1a_row11_col4\" class=\"data row11 col4\" >0.5119</td>\n",
              "      <td id=\"T_bbc1a_row11_col5\" class=\"data row11 col5\" >0.1683</td>\n",
              "      <td id=\"T_bbc1a_row11_col6\" class=\"data row11 col6\" >0.3106</td>\n",
              "      <td id=\"T_bbc1a_row11_col7\" class=\"data row11 col7\" >0.0250</td>\n",
              "    </tr>\n",
              "    <tr>\n",
              "      <th id=\"T_bbc1a_level0_row12\" class=\"row_heading level0 row12\" >knn</th>\n",
              "      <td id=\"T_bbc1a_row12_col0\" class=\"data row12 col0\" >K Neighbors Regressor</td>\n",
              "      <td id=\"T_bbc1a_row12_col1\" class=\"data row12 col1\" >0.3326</td>\n",
              "      <td id=\"T_bbc1a_row12_col2\" class=\"data row12 col2\" >0.1634</td>\n",
              "      <td id=\"T_bbc1a_row12_col3\" class=\"data row12 col3\" >0.4033</td>\n",
              "      <td id=\"T_bbc1a_row12_col4\" class=\"data row12 col4\" >0.4385</td>\n",
              "      <td id=\"T_bbc1a_row12_col5\" class=\"data row12 col5\" >0.1864</td>\n",
              "      <td id=\"T_bbc1a_row12_col6\" class=\"data row12 col6\" >0.3628</td>\n",
              "      <td id=\"T_bbc1a_row12_col7\" class=\"data row12 col7\" >0.0340</td>\n",
              "    </tr>\n",
              "    <tr>\n",
              "      <th id=\"T_bbc1a_level0_row13\" class=\"row_heading level0 row13\" >par</th>\n",
              "      <td id=\"T_bbc1a_row13_col0\" class=\"data row13 col0\" >Passive Aggressive Regressor</td>\n",
              "      <td id=\"T_bbc1a_row13_col1\" class=\"data row13 col1\" >0.3420</td>\n",
              "      <td id=\"T_bbc1a_row13_col2\" class=\"data row13 col2\" >0.1811</td>\n",
              "      <td id=\"T_bbc1a_row13_col3\" class=\"data row13 col3\" >0.4246</td>\n",
              "      <td id=\"T_bbc1a_row13_col4\" class=\"data row13 col4\" >0.3754</td>\n",
              "      <td id=\"T_bbc1a_row13_col5\" class=\"data row13 col5\" >0.1942</td>\n",
              "      <td id=\"T_bbc1a_row13_col6\" class=\"data row13 col6\" >0.3356</td>\n",
              "      <td id=\"T_bbc1a_row13_col7\" class=\"data row13 col7\" >0.0240</td>\n",
              "    </tr>\n",
              "    <tr>\n",
              "      <th id=\"T_bbc1a_level0_row14\" class=\"row_heading level0 row14\" >dt</th>\n",
              "      <td id=\"T_bbc1a_row14_col0\" class=\"data row14 col0\" >Decision Tree Regressor</td>\n",
              "      <td id=\"T_bbc1a_row14_col1\" class=\"data row14 col1\" >0.3606</td>\n",
              "      <td id=\"T_bbc1a_row14_col2\" class=\"data row14 col2\" >0.2189</td>\n",
              "      <td id=\"T_bbc1a_row14_col3\" class=\"data row14 col3\" >0.4668</td>\n",
              "      <td id=\"T_bbc1a_row14_col4\" class=\"data row14 col4\" >0.2330</td>\n",
              "      <td id=\"T_bbc1a_row14_col5\" class=\"data row14 col5\" >0.2102</td>\n",
              "      <td id=\"T_bbc1a_row14_col6\" class=\"data row14 col6\" >0.3525</td>\n",
              "      <td id=\"T_bbc1a_row14_col7\" class=\"data row14 col7\" >0.0290</td>\n",
              "    </tr>\n",
              "    <tr>\n",
              "      <th id=\"T_bbc1a_level0_row15\" class=\"row_heading level0 row15\" >lasso</th>\n",
              "      <td id=\"T_bbc1a_row15_col0\" class=\"data row15 col0\" >Lasso Regression</td>\n",
              "      <td id=\"T_bbc1a_row15_col1\" class=\"data row15 col1\" >0.4736</td>\n",
              "      <td id=\"T_bbc1a_row15_col2\" class=\"data row15 col2\" >0.2959</td>\n",
              "      <td id=\"T_bbc1a_row15_col3\" class=\"data row15 col3\" >0.5428</td>\n",
              "      <td id=\"T_bbc1a_row15_col4\" class=\"data row15 col4\" >-0.0069</td>\n",
              "      <td id=\"T_bbc1a_row15_col5\" class=\"data row15 col5\" >0.2514</td>\n",
              "      <td id=\"T_bbc1a_row15_col6\" class=\"data row15 col6\" >0.5473</td>\n",
              "      <td id=\"T_bbc1a_row15_col7\" class=\"data row15 col7\" >0.0240</td>\n",
              "    </tr>\n",
              "    <tr>\n",
              "      <th id=\"T_bbc1a_level0_row16\" class=\"row_heading level0 row16\" >en</th>\n",
              "      <td id=\"T_bbc1a_row16_col0\" class=\"data row16 col0\" >Elastic Net</td>\n",
              "      <td id=\"T_bbc1a_row16_col1\" class=\"data row16 col1\" >0.4736</td>\n",
              "      <td id=\"T_bbc1a_row16_col2\" class=\"data row16 col2\" >0.2959</td>\n",
              "      <td id=\"T_bbc1a_row16_col3\" class=\"data row16 col3\" >0.5428</td>\n",
              "      <td id=\"T_bbc1a_row16_col4\" class=\"data row16 col4\" >-0.0069</td>\n",
              "      <td id=\"T_bbc1a_row16_col5\" class=\"data row16 col5\" >0.2514</td>\n",
              "      <td id=\"T_bbc1a_row16_col6\" class=\"data row16 col6\" >0.5473</td>\n",
              "      <td id=\"T_bbc1a_row16_col7\" class=\"data row16 col7\" >0.0250</td>\n",
              "    </tr>\n",
              "    <tr>\n",
              "      <th id=\"T_bbc1a_level0_row17\" class=\"row_heading level0 row17\" >llar</th>\n",
              "      <td id=\"T_bbc1a_row17_col0\" class=\"data row17 col0\" >Lasso Least Angle Regression</td>\n",
              "      <td id=\"T_bbc1a_row17_col1\" class=\"data row17 col1\" >0.4736</td>\n",
              "      <td id=\"T_bbc1a_row17_col2\" class=\"data row17 col2\" >0.2959</td>\n",
              "      <td id=\"T_bbc1a_row17_col3\" class=\"data row17 col3\" >0.5428</td>\n",
              "      <td id=\"T_bbc1a_row17_col4\" class=\"data row17 col4\" >-0.0069</td>\n",
              "      <td id=\"T_bbc1a_row17_col5\" class=\"data row17 col5\" >0.2514</td>\n",
              "      <td id=\"T_bbc1a_row17_col6\" class=\"data row17 col6\" >0.5473</td>\n",
              "      <td id=\"T_bbc1a_row17_col7\" class=\"data row17 col7\" >0.0230</td>\n",
              "    </tr>\n",
              "    <tr>\n",
              "      <th id=\"T_bbc1a_level0_row18\" class=\"row_heading level0 row18\" >dummy</th>\n",
              "      <td id=\"T_bbc1a_row18_col0\" class=\"data row18 col0\" >Dummy Regressor</td>\n",
              "      <td id=\"T_bbc1a_row18_col1\" class=\"data row18 col1\" >0.4736</td>\n",
              "      <td id=\"T_bbc1a_row18_col2\" class=\"data row18 col2\" >0.2959</td>\n",
              "      <td id=\"T_bbc1a_row18_col3\" class=\"data row18 col3\" >0.5428</td>\n",
              "      <td id=\"T_bbc1a_row18_col4\" class=\"data row18 col4\" >-0.0069</td>\n",
              "      <td id=\"T_bbc1a_row18_col5\" class=\"data row18 col5\" >0.2514</td>\n",
              "      <td id=\"T_bbc1a_row18_col6\" class=\"data row18 col6\" >0.5473</td>\n",
              "      <td id=\"T_bbc1a_row18_col7\" class=\"data row18 col7\" >0.0240</td>\n",
              "    </tr>\n",
              "  </tbody>\n",
              "</table>\n"
            ]
          },
          "metadata": {}
        },
        {
          "output_type": "display_data",
          "data": {
            "text/plain": [
              "Processing:   0%|          | 0/81 [00:00<?, ?it/s]"
            ],
            "application/vnd.jupyter.widget-view+json": {
              "version_major": 2,
              "version_minor": 0,
              "model_id": "a4f5308878a0465aa967636e8bdbfcfa"
            }
          },
          "metadata": {
            "application/vnd.jupyter.widget-view+json": {
              "colab": {
                "custom_widget_manager": {
                  "url": "https://ssl.gstatic.com/colaboratory-static/widgets/colab-cdn-widget-manager/2b70e893a8ba7c0f/manager.min.js"
                }
              }
            }
          }
        },
        {
          "output_type": "display_data",
          "data": {
            "text/plain": [
              "<IPython.core.display.HTML object>"
            ],
            "text/html": []
          },
          "metadata": {}
        }
      ]
    },
    {
      "cell_type": "code",
      "source": [
        "final_model = finalize_model(best_model)"
      ],
      "metadata": {
        "id": "pD4UHbIZSev9"
      },
      "execution_count": null,
      "outputs": []
    },
    {
      "cell_type": "code",
      "source": [
        "from sklearn.model_selection import train_test_split\n",
        "X_train, X_test, y_train, y_test = train_test_split(X, y[target], test_size=0.3, random_state=42)\n",
        "test_data = pd.concat([X_test, y_test], axis=1)\n",
        "predictions = predict_model(final_model, data=test_data)"
      ],
      "metadata": {
        "colab": {
          "base_uri": "https://localhost:8080/",
          "height": 80
        },
        "id": "mznaz5L8SllD",
        "outputId": "c502d17e-04dd-433e-f1de-1fea22508276"
      },
      "execution_count": null,
      "outputs": [
        {
          "output_type": "display_data",
          "data": {
            "text/plain": [
              "<pandas.io.formats.style.Styler at 0x79f92253e500>"
            ],
            "text/html": [
              "<style type=\"text/css\">\n",
              "</style>\n",
              "<table id=\"T_4b56b\" class=\"dataframe\">\n",
              "  <thead>\n",
              "    <tr>\n",
              "      <th class=\"blank level0\" >&nbsp;</th>\n",
              "      <th id=\"T_4b56b_level0_col0\" class=\"col_heading level0 col0\" >Model</th>\n",
              "      <th id=\"T_4b56b_level0_col1\" class=\"col_heading level0 col1\" >MAE</th>\n",
              "      <th id=\"T_4b56b_level0_col2\" class=\"col_heading level0 col2\" >MSE</th>\n",
              "      <th id=\"T_4b56b_level0_col3\" class=\"col_heading level0 col3\" >RMSE</th>\n",
              "      <th id=\"T_4b56b_level0_col4\" class=\"col_heading level0 col4\" >R2</th>\n",
              "      <th id=\"T_4b56b_level0_col5\" class=\"col_heading level0 col5\" >RMSLE</th>\n",
              "      <th id=\"T_4b56b_level0_col6\" class=\"col_heading level0 col6\" >MAPE</th>\n",
              "    </tr>\n",
              "  </thead>\n",
              "  <tbody>\n",
              "    <tr>\n",
              "      <th id=\"T_4b56b_level0_row0\" class=\"row_heading level0 row0\" >0</th>\n",
              "      <td id=\"T_4b56b_row0_col0\" class=\"data row0 col0\" >Bayesian Ridge</td>\n",
              "      <td id=\"T_4b56b_row0_col1\" class=\"data row0 col1\" >0.2655</td>\n",
              "      <td id=\"T_4b56b_row0_col2\" class=\"data row0 col2\" >0.1032</td>\n",
              "      <td id=\"T_4b56b_row0_col3\" class=\"data row0 col3\" >0.3212</td>\n",
              "      <td id=\"T_4b56b_row0_col4\" class=\"data row0 col4\" >0.6458</td>\n",
              "      <td id=\"T_4b56b_row0_col5\" class=\"data row0 col5\" >0.1430</td>\n",
              "      <td id=\"T_4b56b_row0_col6\" class=\"data row0 col6\" >0.2566</td>\n",
              "    </tr>\n",
              "  </tbody>\n",
              "</table>\n"
            ]
          },
          "metadata": {}
        },
        {
          "output_type": "display_data",
          "data": {
            "text/plain": [
              "<IPython.core.display.HTML object>"
            ],
            "text/html": []
          },
          "metadata": {}
        }
      ]
    },
    {
      "cell_type": "code",
      "source": [
        "plot_model(final_model, plot='feature')"
      ],
      "metadata": {
        "colab": {
          "base_uri": "https://localhost:8080/",
          "height": 485
        },
        "id": "K9kZVeVeS360",
        "outputId": "7be4f989-a3a1-42c6-ec1c-0d025234c140"
      },
      "execution_count": null,
      "outputs": [
        {
          "output_type": "display_data",
          "data": {
            "text/plain": [
              "<IPython.core.display.HTML object>"
            ],
            "text/html": []
          },
          "metadata": {}
        },
        {
          "output_type": "display_data",
          "data": {
            "text/plain": [
              "<Figure size 800x500 with 1 Axes>"
            ],
            "image/png": "[encoded data removed]"
          },
          "metadata": {}
        }
      ]
    },
    {
      "cell_type": "code",
      "source": [
        "plot_model(final_model, plot='error')"
      ],
      "metadata": {
        "colab": {
          "base_uri": "https://localhost:8080/",
          "height": 526
        },
        "id": "vY2OA0hxS8YO",
        "outputId": "3c1a3d55-fa07-4cfd-94cd-d6b4c89a9d9b"
      },
      "execution_count": null,
      "outputs": [
        {
          "output_type": "display_data",
          "data": {
            "text/plain": [
              "<IPython.core.display.HTML object>"
            ],
            "text/html": []
          },
          "metadata": {}
        },
        {
          "output_type": "display_data",
          "data": {
            "text/plain": [
              "<Figure size 800x550 with 1 Axes>"
            ],
            "image/png": "[encoded data removed]"
          },
          "metadata": {}
        }
      ]
    },
    {
      "cell_type": "code",
      "source": [
        "save_model(final_model, 'best_model_Target2')"
      ],
      "metadata": {
        "colab": {
          "base_uri": "https://localhost:8080/"
        },
        "id": "-53a1D5nS8_j",
        "outputId": "158eb604-78d5-4eac-e486-56860b48537b"
      },
      "execution_count": null,
      "outputs": [
        {
          "output_type": "stream",
          "name": "stdout",
          "text": [
            "Transformation Pipeline and Model Successfully Saved\n"
          ]
        },
        {
          "output_type": "execute_result",
          "data": {
            "text/plain": [
              "(Pipeline(memory=Memory(location=None),\n",
              "          steps=[('numerical_imputer',\n",
              "                  TransformerWrapper(include=['F1', 'F2', 'F3', 'F4', 'F5', 'F6',\n",
              "                                              'F7', 'F8', 'F9', 'F10', 'F11',\n",
              "                                              'F12', 'F13', 'F14', 'F15'],\n",
              "                                     transformer=SimpleImputer())),\n",
              "                 ('categorical_imputer',\n",
              "                  TransformerWrapper(include=[],\n",
              "                                     transformer=SimpleImputer(strategy='most_frequent'))),\n",
              "                 ('normalize', TransformerWrapper(transformer=StandardScaler())),\n",
              "                 ('actual_estimator', BayesianRidge())]),\n",
              " 'best_model_Target2.pkl')"
            ]
          },
          "metadata": {},
          "execution_count": 15
        }
      ]
    }
  ]
}